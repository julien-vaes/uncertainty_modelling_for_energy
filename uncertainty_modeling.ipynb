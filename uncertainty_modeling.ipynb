{
 "cells": [
  {
   "cell_type": "markdown",
   "metadata": {
    "toc": true
   },
   "source": [
    "<h1>Table of Contents<span class=\"tocSkip\"></span></h1>\n",
    "<div class=\"toc\"><ul class=\"toc-item\"><li><span><a href=\"#Import-packages\" data-toc-modified-id=\"Import-packages-1\"><span class=\"toc-item-num\">1&nbsp;&nbsp;</span>Import packages</a></span></li><li><span><a href=\"#User-inputs\" data-toc-modified-id=\"User-inputs-2\"><span class=\"toc-item-num\">2&nbsp;&nbsp;</span>User inputs</a></span><ul class=\"toc-item\"><li><span><a href=\"#Input-data-file\" data-toc-modified-id=\"Input-data-file-2.1\"><span class=\"toc-item-num\">2.1&nbsp;&nbsp;</span>Input data file</a></span></li><li><span><a href=\"#Details-on-the-size-reduction-to-perform-via-PCA\" data-toc-modified-id=\"Details-on-the-size-reduction-to-perform-via-PCA-2.2\"><span class=\"toc-item-num\">2.2&nbsp;&nbsp;</span>Details on the size reduction to perform via PCA</a></span></li><li><span><a href=\"#Clustering:-number-of-clusters-to-generate-for-each-final-attribute\" data-toc-modified-id=\"Clustering:-number-of-clusters-to-generate-for-each-final-attribute-2.3\"><span class=\"toc-item-num\">2.3&nbsp;&nbsp;</span>Clustering: number of clusters to generate for each final attribute</a></span></li><li><span><a href=\"#Polyhedral-uncertainty-set-parameters\" data-toc-modified-id=\"Polyhedral-uncertainty-set-parameters-2.4\"><span class=\"toc-item-num\">2.4&nbsp;&nbsp;</span>Polyhedral uncertainty set parameters</a></span></li><li><span><a href=\"#Scenarios-definition\" data-toc-modified-id=\"Scenarios-definition-2.5\"><span class=\"toc-item-num\">2.5&nbsp;&nbsp;</span>Scenarios definition</a></span></li></ul></li><li><span><a href=\"#Computation\" data-toc-modified-id=\"Computation-3\"><span class=\"toc-item-num\">3&nbsp;&nbsp;</span>Computation</a></span></li><li><span><a href=\"#Querying-the-ouput-results:-example\" data-toc-modified-id=\"Querying-the-ouput-results:-example-4\"><span class=\"toc-item-num\">4&nbsp;&nbsp;</span>Querying the ouput results: example</a></span></li></ul></div>"
   ]
  },
  {
   "cell_type": "markdown",
   "metadata": {},
   "source": [
    "# Import packages"
   ]
  },
  {
   "cell_type": "code",
   "execution_count": 1,
   "metadata": {
    "ExecuteTime": {
     "end_time": "2023-05-29T13:03:58.022336Z",
     "start_time": "2023-05-29T13:03:54.983683Z"
    },
    "run_control": {
     "marked": true
    }
   },
   "outputs": [
    {
     "name": "stdout",
     "output_type": "stream",
     "text": [
      "/Users/nvdbconsulting/Documents/local_research/uncertainty_modelling_for_energy/myenv/bin/python3.11\n"
     ]
    }
   ],
   "source": [
    "import sys  \n",
    "print(sys.executable)\n",
    "sys.path.insert(0, 'src/')\n",
    "\n",
    "import pca_size_reduction as psr\n",
    "import polyhedral_uncertainty_set as pus\n",
    "import clustering_analysis as cl\n",
    "import analysis_plots as ap\n",
    "import scenarios_pus as spus"
   ]
  },
  {
   "cell_type": "markdown",
   "metadata": {},
   "source": [
    "# User inputs\n",
    "Here are all the inputs that the user must provide and cacn play with to generate different scenarios and associated describing linear inequality constraints"
   ]
  },
  {
   "cell_type": "markdown",
   "metadata": {},
   "source": [
    "## Input data file"
   ]
  },
  {
   "cell_type": "code",
   "execution_count": 2,
   "metadata": {
    "ExecuteTime": {
     "end_time": "2023-05-29T13:03:58.032323Z",
     "start_time": "2023-05-29T13:03:58.026298Z"
    }
   },
   "outputs": [],
   "source": [
    "# File path containing the data\n",
    "the_input_file = 'data/energy_UK_2015_dataset.csv'\n",
    "\n",
    "# Number of values per data points\n",
    "the_n_values_per_attribute_per_data_point = 24"
   ]
  },
  {
   "cell_type": "markdown",
   "metadata": {
    "code_folding": []
   },
   "source": [
    "## Details on the size reduction to perform via PCA "
   ]
  },
  {
   "cell_type": "code",
   "execution_count": 3,
   "metadata": {
    "ExecuteTime": {
     "end_time": "2023-05-29T13:03:58.056789Z",
     "start_time": "2023-05-29T13:03:58.039043Z"
    }
   },
   "outputs": [],
   "source": [
    "######################\n",
    "# PCA size reduction #\n",
    "######################\n",
    "\n",
    "###########\n",
    "# Level 1 #\n",
    "###########\n",
    "\n",
    "# the explained variance threshold\n",
    "the_explained_variance_threshold_level_1 = 5*10.0**-5\n",
    "\n",
    "# the maximum number of PCA components to retain\n",
    "the_n_directions_threshold_level_1 = None\n",
    "\n",
    "# Set which attributes should be merged together in the 1st layer of PCA size reduction\n",
    "the_attributes_to_merge_pca_level_1 = {\n",
    "    'Elec':['Elec'],\n",
    "    'GasDem':['GasDem_EA', 'GasDem_EM', 'GasDem_NE', 'GasDem_NO', 'GasDem_NT', 'GasDem_NW', 'GasDem_SC', 'GasDem_SE', 'GasDem_SO', 'GasDem_SW', 'GasDem_WM'],\n",
    "    'Temp':['Temp_EA', 'Temp_EM', 'Temp_NE', 'Temp_NO', 'Temp_NT', 'Temp_NW', 'Temp_SC', 'Temp_SE', 'Temp_SO', 'Temp_SW', 'Temp_WM', 'Temp_WN', 'Temp_WS'],\n",
    "    'Solar':['Solar_EA', 'Solar_EM', 'Solar_NE', 'Solar_NO','Solar_NT', 'Solar_NW', 'Solar_SC', 'Solar_SE', 'Solar_SO', 'Solar_SW', 'Solar_WM', 'Solar_WN', 'Solar_WS'],\n",
    "    'WindOff':['WindOff_EA', 'WindOff_EM', 'WindOff_NE', 'WindOff_NO', 'WindOff_NT', 'WindOff_NW', 'WindOff_SC', 'WindOff_SE', 'WindOff_SO', 'WindOff_SW', 'WindOff_WN', 'WindOff_WS'],\n",
    "    'WindOn':['WindOn_EA', 'WindOn_EM', 'WindOn_NE', 'WindOn_NO', 'WindOn_NT', 'WindOn_NW', 'WindOn_SC', 'WindOn_SE', 'WindOn_SO', 'WindOn_SW', 'WindOn_WM', 'WindOn_WN', 'WindOn_WS']\n",
    "}\n",
    "\n",
    "###########\n",
    "# Level 2 #\n",
    "###########\n",
    "\n",
    "# the explained variance threshold\n",
    "the_explained_variance_threshold_level_2 = 10.0**-4\n",
    "\n",
    "# the maximum number of PCA components to retain\n",
    "the_n_directions_threshold_level_2 = 48\n",
    "\n",
    "# Set which attributes should be merged together in the 2nd layer of PCA size reduction\n",
    "the_attributes_to_merge_pca_level_2 = {\n",
    "    'Seasonality':['Elec','GasDem','Temp'],\n",
    "    'Solar':['Solar'],\n",
    "    'Wind':['WindOn','WindOff']\n",
    "}"
   ]
  },
  {
   "cell_type": "markdown",
   "metadata": {
    "code_folding": []
   },
   "source": [
    "## Clustering: number of clusters to generate for each final attribute"
   ]
  },
  {
   "cell_type": "code",
   "execution_count": 4,
   "metadata": {
    "ExecuteTime": {
     "end_time": "2023-05-29T13:03:58.068443Z",
     "start_time": "2023-05-29T13:03:58.062702Z"
    }
   },
   "outputs": [],
   "source": [
    "the_n_clusters = {'Seasonality': 4, 'Solar': 4, 'Wind': 4}\n",
    "the_clustering_method = 'kmeans' # Choose between 'kmeans', 'gmm', and 'dpgmm'"
   ]
  },
  {
   "cell_type": "markdown",
   "metadata": {
    "code_folding": []
   },
   "source": [
    "## Polyhedral uncertainty set parameters"
   ]
  },
  {
   "cell_type": "code",
   "execution_count": 5,
   "metadata": {
    "ExecuteTime": {
     "end_time": "2023-05-29T13:03:58.082171Z",
     "start_time": "2023-05-29T13:03:58.072774Z"
    }
   },
   "outputs": [],
   "source": [
    "the_details_polyhedral_uncertainty_set_generation = {\n",
    "        'Seasonality': {'α':0.025,\n",
    "                        'cumulated_budget':20.0,\n",
    "                        'pairwise_budget':1.5,\n",
    "                        'n_dir_pairwise_budget':10},\n",
    "        'Solar': {'α':0.025,\n",
    "                  'cumulated_budget':20.0,\n",
    "                  'pairwise_budget':1.5,\n",
    "                  'n_dir_pairwise_budget':10},\n",
    "        'Wind': {'α':0.025,\n",
    "                 'cumulated_budget':20.0,\n",
    "                 'pairwise_budget':1.5,\n",
    "                 'n_dir_pairwise_budget':10}\n",
    "        }"
   ]
  },
  {
   "cell_type": "markdown",
   "metadata": {
    "code_folding": []
   },
   "source": [
    "## Scenarios definition"
   ]
  },
  {
   "cell_type": "code",
   "execution_count": 6,
   "metadata": {
    "ExecuteTime": {
     "end_time": "2023-05-29T13:03:58.092043Z",
     "start_time": "2023-05-29T13:03:58.086609Z"
    }
   },
   "outputs": [],
   "source": [
    "the_prob_threshold = 0.03"
   ]
  },
  {
   "cell_type": "markdown",
   "metadata": {},
   "source": [
    "# Computation"
   ]
  },
  {
   "cell_type": "markdown",
   "metadata": {},
   "source": [
    "##### Create the scenario-based polyhedral uncertainty set object, which loads the data\n"
   ]
  },
  {
   "cell_type": "code",
   "execution_count": 7,
   "metadata": {
    "ExecuteTime": {
     "end_time": "2023-05-29T13:03:58.308453Z",
     "start_time": "2023-05-29T13:03:58.096803Z"
    }
   },
   "outputs": [],
   "source": [
    "# Create the scenario-based polyhedral uncertainty set object, which loads the data\n",
    "the_scenarios_pus = spus.ScenariosPUS(the_input_file,a_n_values_per_attribute_per_data_point=the_n_values_per_attribute_per_data_point)"
   ]
  },
  {
   "cell_type": "markdown",
   "metadata": {},
   "source": [
    "##### Step 3a → 3c: PCA reduction"
   ]
  },
  {
   "cell_type": "code",
   "execution_count": 8,
   "metadata": {
    "ExecuteTime": {
     "end_time": "2023-05-29T13:03:58.326626Z",
     "start_time": "2023-05-29T13:03:58.317614Z"
    }
   },
   "outputs": [],
   "source": [
    "the_attributes_to_merge_via_pca  = [the_attributes_to_merge_pca_level_1, the_attributes_to_merge_pca_level_2]\n",
    "the_explained_variance_threshold = [{k:the_explained_variance_threshold_level_1 for k in the_attributes_to_merge_pca_level_1},{k:the_explained_variance_threshold_level_2 for k in the_attributes_to_merge_pca_level_2}] \n",
    "the_n_directions_threshold       = [{k:the_n_directions_threshold_level_1 for k in the_attributes_to_merge_pca_level_1},{k:the_n_directions_threshold_level_2 for k in the_attributes_to_merge_pca_level_2}] "
   ]
  },
  {
   "cell_type": "code",
   "execution_count": 9,
   "metadata": {
    "ExecuteTime": {
     "end_time": "2023-05-29T13:03:59.376076Z",
     "start_time": "2023-05-29T13:03:58.332936Z"
    },
    "scrolled": false
   },
   "outputs": [
    {
     "name": "stdout",
     "output_type": "stream",
     "text": [
      "WARNING: Some initial attributes are ignored in the dimension reduction: '['GasDem_WN', 'GasDem_WS', 'Int_BRITNED', 'Int_FABLINK', 'Int_MOYLE', 'Int_NEMO', 'Int_Northconnet', 'Int_VikingLink']'.\n"
     ]
    }
   ],
   "source": [
    "the_scenarios_pus.perform_size_reduction(the_attributes_to_merge_via_pca,the_explained_variance_threshold,the_n_directions_threshold)"
   ]
  },
  {
   "cell_type": "markdown",
   "metadata": {},
   "source": [
    "##### Step 3d: clustering"
   ]
  },
  {
   "cell_type": "code",
   "execution_count": 10,
   "metadata": {
    "ExecuteTime": {
     "end_time": "2023-05-29T13:03:59.699830Z",
     "start_time": "2023-05-29T13:03:59.380986Z"
    }
   },
   "outputs": [
    {
     "name": "stderr",
     "output_type": "stream",
     "text": [
      "/Users/nvdbconsulting/Documents/local_research/uncertainty_modelling_for_energy/myenv/lib/python3.11/site-packages/sklearn/cluster/_kmeans.py:870: FutureWarning: The default value of `n_init` will change from 10 to 'auto' in 1.4. Set the value of `n_init` explicitly to suppress the warning\n",
      "  warnings.warn(\n",
      "/Users/nvdbconsulting/Documents/local_research/uncertainty_modelling_for_energy/myenv/lib/python3.11/site-packages/sklearn/cluster/_kmeans.py:870: FutureWarning: The default value of `n_init` will change from 10 to 'auto' in 1.4. Set the value of `n_init` explicitly to suppress the warning\n",
      "  warnings.warn(\n",
      "/Users/nvdbconsulting/Documents/local_research/uncertainty_modelling_for_energy/myenv/lib/python3.11/site-packages/sklearn/cluster/_kmeans.py:870: FutureWarning: The default value of `n_init` will change from 10 to 'auto' in 1.4. Set the value of `n_init` explicitly to suppress the warning\n",
      "  warnings.warn(\n"
     ]
    }
   ],
   "source": [
    "the_scenarios_pus.perform_clustering(the_n_clusters,a_method=the_clustering_method)"
   ]
  },
  {
   "cell_type": "markdown",
   "metadata": {},
   "source": [
    "##### Step 3e → 3f: PUS of each cluster of each new final attribute"
   ]
  },
  {
   "cell_type": "code",
   "execution_count": 11,
   "metadata": {
    "ExecuteTime": {
     "end_time": "2023-05-29T13:04:00.742120Z",
     "start_time": "2023-05-29T13:03:59.704602Z"
    },
    "scrolled": true
   },
   "outputs": [],
   "source": [
    "the_scenarios_pus.compute_polyhedral_uncertainty_set_for_each_cluster_of_each_attribute(a_details_polyhedral_uncertainty_set_generation=the_details_polyhedral_uncertainty_set_generation)"
   ]
  },
  {
   "cell_type": "markdown",
   "metadata": {},
   "source": [
    "##### Step 4: scenario definition"
   ]
  },
  {
   "cell_type": "code",
   "execution_count": 12,
   "metadata": {
    "ExecuteTime": {
     "end_time": "2023-05-29T13:04:00.803815Z",
     "start_time": "2023-05-29T13:04:00.746065Z"
    }
   },
   "outputs": [
    {
     "name": "stdout",
     "output_type": "stream",
     "text": [
      "The number of scenarios verifying the probability threshold 0.03 is equal to 14.\n"
     ]
    }
   ],
   "source": [
    "the_scenarios_pus.perform_scenario_definition(a_prob_threshold=the_prob_threshold)\n",
    "print(f\"The number of scenarios verifying the probability threshold {the_scenarios_pus.prob_threshold} is equal to {the_scenarios_pus.n_scenarios}.\")"
   ]
  },
  {
   "cell_type": "markdown",
   "metadata": {},
   "source": [
    "# Querying the ouput results: example"
   ]
  },
  {
   "cell_type": "markdown",
   "metadata": {},
   "source": [
    "##### Get the list of all scenarios generated"
   ]
  },
  {
   "cell_type": "code",
   "execution_count": 13,
   "metadata": {
    "ExecuteTime": {
     "end_time": "2023-05-29T13:04:00.813611Z",
     "start_time": "2023-05-29T13:04:00.807875Z"
    }
   },
   "outputs": [],
   "source": [
    "the_scenarios = the_scenarios_pus.get_scenarios()"
   ]
  },
  {
   "cell_type": "markdown",
   "metadata": {
    "ExecuteTime": {
     "end_time": "2023-03-10T11:05:02.568158Z",
     "start_time": "2023-03-10T11:05:02.565864Z"
    }
   },
   "source": [
    "##### Get the details on a specific scenario, here the scenario with index 'the_scenario_index'"
   ]
  },
  {
   "cell_type": "code",
   "execution_count": 14,
   "metadata": {
    "ExecuteTime": {
     "end_time": "2023-05-29T13:04:00.821945Z",
     "start_time": "2023-05-29T13:04:00.817833Z"
    }
   },
   "outputs": [],
   "source": [
    "the_scenario_index = 3"
   ]
  },
  {
   "cell_type": "code",
   "execution_count": 15,
   "metadata": {
    "ExecuteTime": {
     "end_time": "2023-05-29T13:04:00.830504Z",
     "start_time": "2023-05-29T13:04:00.825498Z"
    }
   },
   "outputs": [],
   "source": [
    "the_scenar = the_scenarios[the_scenario_index-1]\n",
    "\n",
    "# Get the probability of the scenario\n",
    "the_proba = the_scenar.get_probability()\n",
    "\n",
    "# Get the detais on the linear constraints for generating uncertainty for the scenario\n",
    "the_scenario_linear_formulation_details = the_scenar.get_linear_constraints_for_optimisation()"
   ]
  },
  {
   "cell_type": "markdown",
   "metadata": {},
   "source": [
    "##### Print the details on the scenario with index 'the_scenario_index'"
   ]
  },
  {
   "cell_type": "code",
   "execution_count": 16,
   "metadata": {
    "ExecuteTime": {
     "end_time": "2023-05-29T13:04:00.847365Z",
     "start_time": "2023-05-29T13:04:00.835236Z"
    },
    "scrolled": true
   },
   "outputs": [
    {
     "name": "stdout",
     "output_type": "stream",
     "text": [
      "The probabilty of occurence of scenario 3 is 0.09.\n",
      "\n",
      "\n",
      "--------------------------------------------------------\n",
      " = Constraints for the final attribute 'Seasonality' =\n",
      "--------------------------------------------------------\n",
      "PUS linear constraints dimensions: A_w * w + A_z * z <= b\n",
      "A_w: (430, 48)\n",
      "A_z: (430, 144)\n",
      "b: (430,)\n",
      "\n",
      "Projection from truncated basis to original basis: u = w' * A_to_original_basis + b_to_original_basis\n",
      "A_to_original_basis: (48, 600)\n",
      "b_to_original_basis: (600,)\n",
      "\n",
      "Details on how the original uncertainty vector is composed in the different attributes:\n",
      "[('Elec', 24), ('GasDem_EA', 24), ('GasDem_EM', 24), ('GasDem_NE', 24), ('GasDem_NO', 24), ('GasDem_NT', 24), ('GasDem_NW', 24), ('GasDem_SC', 24), ('GasDem_SE', 24), ('GasDem_SO', 24), ('GasDem_SW', 24), ('GasDem_WM', 24), ('Temp_EA', 24), ('Temp_EM', 24), ('Temp_NE', 24), ('Temp_NO', 24), ('Temp_NT', 24), ('Temp_NW', 24), ('Temp_SC', 24), ('Temp_SE', 24), ('Temp_SO', 24), ('Temp_SW', 24), ('Temp_WM', 24), ('Temp_WN', 24), ('Temp_WS', 24)]\n",
      "\n",
      "\n",
      "--------------------------------------------------------\n",
      " = Constraints for the final attribute 'Solar' =\n",
      "--------------------------------------------------------\n",
      "PUS linear constraints dimensions: A_w * w + A_z * z <= b\n",
      "A_w: (430, 48)\n",
      "A_z: (430, 144)\n",
      "b: (430,)\n",
      "\n",
      "Projection from truncated basis to original basis: u = w' * A_to_original_basis + b_to_original_basis\n",
      "A_to_original_basis: (48, 312)\n",
      "b_to_original_basis: (312,)\n",
      "\n",
      "Details on how the original uncertainty vector is composed in the different attributes:\n",
      "[('Solar_EA', 24), ('Solar_EM', 24), ('Solar_NE', 24), ('Solar_NO', 24), ('Solar_NT', 24), ('Solar_NW', 24), ('Solar_SC', 24), ('Solar_SE', 24), ('Solar_SO', 24), ('Solar_SW', 24), ('Solar_WM', 24), ('Solar_WN', 24), ('Solar_WS', 24)]\n",
      "\n",
      "\n",
      "--------------------------------------------------------\n",
      " = Constraints for the final attribute 'Wind' =\n",
      "--------------------------------------------------------\n",
      "PUS linear constraints dimensions: A_w * w + A_z * z <= b\n",
      "A_w: (430, 48)\n",
      "A_z: (430, 144)\n",
      "b: (430,)\n",
      "\n",
      "Projection from truncated basis to original basis: u = w' * A_to_original_basis + b_to_original_basis\n",
      "A_to_original_basis: (48, 600)\n",
      "b_to_original_basis: (600,)\n",
      "\n",
      "Details on how the original uncertainty vector is composed in the different attributes:\n",
      "[('WindOff_EA', 24), ('WindOff_EM', 24), ('WindOff_NE', 24), ('WindOff_NO', 24), ('WindOff_NT', 24), ('WindOff_NW', 24), ('WindOff_SC', 24), ('WindOff_SE', 24), ('WindOff_SO', 24), ('WindOff_SW', 24), ('WindOff_WN', 24), ('WindOff_WS', 24), ('WindOn_EA', 24), ('WindOn_EM', 24), ('WindOn_NE', 24), ('WindOn_NO', 24), ('WindOn_NT', 24), ('WindOn_NW', 24), ('WindOn_SC', 24), ('WindOn_SE', 24), ('WindOn_SO', 24), ('WindOn_SW', 24), ('WindOn_WM', 24), ('WindOn_WN', 24), ('WindOn_WS', 24)]\n"
     ]
    }
   ],
   "source": [
    "print(f\"The probabilty of occurence of scenario {the_scenario_index} is {the_proba}.\")\n",
    "\n",
    "for attr in the_scenario_linear_formulation_details:\n",
    "\n",
    "    the_scenario_linear_formulation_details_attr = the_scenario_linear_formulation_details[attr]\n",
    "    \n",
    "    print(f\"\\n\\n--------------------------------------------------------\")\n",
    "    print(f\" = Constraints for the final attribute '{attr}' =\")\n",
    "    print(f\"--------------------------------------------------------\")\n",
    "\n",
    "    print(\"PUS linear constraints dimensions: A_w * w + A_z * z <= b\")\n",
    "    print(f\"A_w: {the_scenario_linear_formulation_details_attr['A_w'].shape}\")\n",
    "    print(f\"A_z: {the_scenario_linear_formulation_details_attr['A_z'].shape}\")\n",
    "    print(f\"b: {the_scenario_linear_formulation_details_attr['b'].shape}\")\n",
    "\n",
    "    print(\"\\nProjection from truncated basis to original basis: u = w' * A_to_original_basis + b_to_original_basis\")\n",
    "    print(f\"A_to_original_basis: {the_scenario_linear_formulation_details_attr['A_to_original_basis'].shape}\")\n",
    "    print(f\"b_to_original_basis: {the_scenario_linear_formulation_details_attr['b_to_original_basis'].shape}\")\n",
    "\n",
    "    print(f\"\\nDetails on how the original uncertainty vector is composed in the different attributes:\\n{the_scenario_linear_formulation_details_attr['description_var_original_basis']}\")"
   ]
  }
 ],
 "metadata": {
  "kernelspec": {
   "display_name": "Python 3 (ipykernel)",
   "language": "python",
   "name": "python3"
  },
  "language_info": {
   "codemirror_mode": {
    "name": "ipython",
    "version": 3
   },
   "file_extension": ".py",
   "mimetype": "text/x-python",
   "name": "python",
   "nbconvert_exporter": "python",
   "pygments_lexer": "ipython3",
   "version": "3.11.3"
  },
  "toc": {
   "base_numbering": 1,
   "nav_menu": {},
   "number_sections": true,
   "sideBar": true,
   "skip_h1_title": false,
   "title_cell": "Table of Contents",
   "title_sidebar": "Contents",
   "toc_cell": true,
   "toc_position": {
    "height": "calc(100% - 180px)",
    "left": "10px",
    "top": "150px",
    "width": "369.6px"
   },
   "toc_section_display": true,
   "toc_window_display": true
  }
 },
 "nbformat": 4,
 "nbformat_minor": 2
}
